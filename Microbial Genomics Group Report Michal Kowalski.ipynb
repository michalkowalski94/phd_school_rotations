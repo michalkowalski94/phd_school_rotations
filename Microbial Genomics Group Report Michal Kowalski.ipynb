{
 "cells": [
  {
   "cell_type": "markdown",
   "metadata": {},
   "source": [
    "<title>\n",
    "Microbial Genomics Group Rotation Report | \n",
    "Michał Kowalski | \n",
    "MCB PhD school\n",
    "</title>"
   ]
  },
  {
   "cell_type": "markdown",
   "metadata": {},
   "source": [
    "# Scope\n",
    "How to make sense of microbial sequence data?\n",
    "\n",
    "# Topics\n",
    "## Next Generation Sequencing (Illumina vs Nanopore)\n",
    "Understanding of differences between outputs of two most common sequencing platforms\n",
    "\n",
    "### Illumina\n",
    "Great quality of reads, running on short reads\n",
    "\n",
    "### Nanopore\n",
    "Poor to decent quality of reads, running on long reads"
   ]
  },
  {
   "cell_type": "markdown",
   "metadata": {},
   "source": [
    "<img src=\"https://i.imgur.com/FD6stLs.png\"\n",
    "     alt=\"Illumina vs Nanopore\"\n",
    "     style=\"float: left; margin-right: 10px;\" />"
   ]
  },
  {
   "cell_type": "markdown",
   "metadata": {},
   "source": [
    "## Quality Control\n",
    "### Illumina\n",
    "Base pairs are read based on the fluorescence signal\n",
    "### Nanopore\n",
    "Base pairs are read based on basecalling on raw electric current signal\n",
    "### Why do we need QC\n",
    "Uncertainity in the ability to read signal is reflected in the QC score\n",
    "### FastQ format\n",
    "As presented in [online materials](https://en.wikipedia.org/wiki/FASTQ_format) every Illumina read has its certainity score encoded in ASCII characters for better control of quality of the results. Those will be explored in excercises presended below."
   ]
  },
  {
   "cell_type": "markdown",
   "metadata": {},
   "source": [
    "### Excercise 1\n",
    "Open <code>assembly-data/part1_qc/data/short_reads_1.fastq</code> using a text editor (or \"head -4\" command)\n",
    "\n",
    "Open [wiki](https://en.wikipedia.org/wiki/FASTQ_format)\n",
    "\n",
    "Investigate the ﬁrst short-read\n",
    "\n",
    "Answer the following questions:\n",
    "\n",
    "<code>\n",
    "A. Which ASCII character corresponds to the worst Phred score for Illumina 1.8+?\n",
    "B. What is the Phred quality score of the 3rd nucleotide of the 1st sequence?\n",
    "C. What is the accuracy of this 3rd nucleotide?\n",
    "</code>"
   ]
  },
  {
   "cell_type": "code",
   "execution_count": 1,
   "metadata": {},
   "outputs": [
    {
     "name": "stdout",
     "output_type": "stream",
     "text": [
      "@SRR031716.1 HWI-EAS299_4_30M2BAAXX:3:1:944:1798 length=37\n",
      "GTGGATATGGATATCCAAATTATATTTGCATAATTTG\n",
      "+SRR031716.1 HWI-EAS299_4_30M2BAAXX:3:1:944:1798 length=37\n",
      "IIIIIIIIIIIIIIIIIIIIIIIIIIIII8IIIIIII\n"
     ]
    }
   ],
   "source": [
    "%%bash\n",
    "head -4 assembly-data/part1_qc/data/short_reads_1.fastq"
   ]
  },
  {
   "cell_type": "markdown",
   "metadata": {},
   "source": [
    "### Answer 1\n",
    "<code>\n",
    "A. \"!\" corresponds to the worst Phred score for Phred-33 (Illumina 1.8+)\n",
    "B. Phred score of 3rd nucleotide of 1st sequence is 40\n",
    "C. Accuracy is above 99.99%, probability of error is equal to 0.001\n",
    "</code>"
   ]
  },
  {
   "cell_type": "markdown",
   "metadata": {},
   "source": [
    "### Excercise 2\n",
    "Open <code>assembly-data/part1-qc/data/short_reads_1.fastq</code> in FastQC\n",
    "\n",
    "Answer the following questions:\n",
    "\n",
    "<code>\n",
    "A. Which Phred encoding is used in the FASTQ ﬁle for these sequences?\n",
    "B. How is the mean per-base score changing along the sequence?\n",
    "C. Is this tendency seen in all sequences?\n",
    "D. Why is there a warning for the per-base sequence content graphs?\n",
    "E. Why is there a warning for the per sequence GC content graphs?\n",
    "</code>"
   ]
  },
  {
   "cell_type": "code",
   "execution_count": 4,
   "metadata": {},
   "outputs": [
    {
     "name": "stdout",
     "output_type": "stream",
     "text": [
      "Analysis complete for short_reads_1.fastq\n"
     ]
    },
    {
     "name": "stderr",
     "output_type": "stream",
     "text": [
      "Started analysis of short_reads_1.fastq\n",
      "Approx 5% complete for short_reads_1.fastq\n",
      "Approx 10% complete for short_reads_1.fastq\n",
      "Approx 15% complete for short_reads_1.fastq\n",
      "Approx 20% complete for short_reads_1.fastq\n",
      "Approx 25% complete for short_reads_1.fastq\n",
      "Approx 30% complete for short_reads_1.fastq\n",
      "Approx 35% complete for short_reads_1.fastq\n",
      "Approx 40% complete for short_reads_1.fastq\n",
      "Approx 45% complete for short_reads_1.fastq\n",
      "Approx 50% complete for short_reads_1.fastq\n",
      "Approx 55% complete for short_reads_1.fastq\n",
      "Approx 60% complete for short_reads_1.fastq\n",
      "Approx 65% complete for short_reads_1.fastq\n",
      "Approx 70% complete for short_reads_1.fastq\n",
      "Approx 75% complete for short_reads_1.fastq\n",
      "Approx 80% complete for short_reads_1.fastq\n",
      "Approx 85% complete for short_reads_1.fastq\n",
      "Approx 90% complete for short_reads_1.fastq\n",
      "Approx 95% complete for short_reads_1.fastq\n",
      "Approx 100% complete for short_reads_1.fastq\n"
     ]
    }
   ],
   "source": [
    "%%bash\n",
    "fastqc assembly-data/part1_qc/data/short_reads_1.fastq"
   ]
  },
  {
   "cell_type": "markdown",
   "metadata": {},
   "source": [
    "### Answers 2\n",
    "<code>\n",
    "A. Sanger / Illumina 1.9 encoding\n",
    "B. Most of sequences have almost 99% good quality of per read (Mean Sequence Quality is equal to 39). But longer the read, the quality drops.\n",
    "C. Yes. On \"Per base sequence quality\" plot, we can observe that the mean quality drops are fitting into IQR\n",
    "D. The \"Per base sequence content\" plot shows that between 13th and 33rd position, reads have very little information entropy. But from 1st to 13th position entropy is huge.\n",
    "E. the GC content is higher than expected in most of the sequences. Distribution of GC is also negatively skewed \n",
    "</code>"
   ]
  },
  {
   "cell_type": "markdown",
   "metadata": {},
   "source": [
    "### Excercise 3\n",
    "Open <code>assembly-data/part1_qc/data/short_reads_2.fastq </code> in FastQC\n",
    "\n",
    "Repeat the analysis and answer the following questions:\n",
    "\n",
    "<code>\n",
    "A. What do you make of the quality of the data?\n",
    "B. What can we do about it?\n",
    "</code>"
   ]
  },
  {
   "cell_type": "code",
   "execution_count": 2,
   "metadata": {},
   "outputs": [
    {
     "name": "stdout",
     "output_type": "stream",
     "text": [
      "Analysis complete for short_reads_2.fastq\n"
     ]
    },
    {
     "name": "stderr",
     "output_type": "stream",
     "text": [
      "Started analysis of short_reads_2.fastq\n",
      "Approx 5% complete for short_reads_2.fastq\n",
      "Approx 10% complete for short_reads_2.fastq\n",
      "Approx 15% complete for short_reads_2.fastq\n",
      "Approx 20% complete for short_reads_2.fastq\n",
      "Approx 25% complete for short_reads_2.fastq\n",
      "Approx 30% complete for short_reads_2.fastq\n",
      "Approx 35% complete for short_reads_2.fastq\n",
      "Approx 40% complete for short_reads_2.fastq\n",
      "Approx 45% complete for short_reads_2.fastq\n",
      "Approx 50% complete for short_reads_2.fastq\n",
      "Approx 55% complete for short_reads_2.fastq\n",
      "Approx 60% complete for short_reads_2.fastq\n",
      "Approx 65% complete for short_reads_2.fastq\n",
      "Approx 70% complete for short_reads_2.fastq\n",
      "Approx 75% complete for short_reads_2.fastq\n",
      "Approx 80% complete for short_reads_2.fastq\n",
      "Approx 85% complete for short_reads_2.fastq\n",
      "Approx 90% complete for short_reads_2.fastq\n",
      "Approx 95% complete for short_reads_2.fastq\n",
      "Approx 100% complete for short_reads_2.fastq\n"
     ]
    }
   ],
   "source": [
    "%%bash\n",
    "fastqc assembly-data/part1_qc/data/short_reads_2.fastq"
   ]
  },
  {
   "cell_type": "markdown",
   "metadata": {},
   "source": [
    "### Answers 3\n",
    "\n",
    "<code>\n",
    "A. The quality of data is not as good as in previous example. Some reads fall into the less than 50% quality score\n",
    "B. Preprocessing techniques, droping sequences with ambiguous nucleotides, trimming, masking, cutting of 5' and 3' ends, removal of adapters."
   ]
  },
  {
   "cell_type": "markdown",
   "metadata": {},
   "source": [
    "### Excercise 4\n",
    "Open <code>assembly-data/part1_qc/fail-examples/31_S7_L001_R2_001_fastqc.html</code> and <code>assembly-data/part1_qc/fail-examples/50_S26_L001_R1_001_fastqc.html</code>\n",
    "\n",
    "What can you say about the quality of these data? Can you improve it?"
   ]
  },
  {
   "cell_type": "markdown",
   "metadata": {},
   "source": [
    "### Answers 4\n",
    "Quality of both examples is one step from being terrible.\n",
    "There are no adapters distinguished and the entropy of information is huge. In my opinion reads are too long for illumina and the quality drops are too significant to ignore them. I think the best solution would be to do sequencing once again."
   ]
  },
  {
   "cell_type": "markdown",
   "metadata": {},
   "source": [
    "## Assembly\n",
    "\n",
    "### de Bruijn graph\n",
    "- Named after a Dutch mathematician, Nicholaas Govert de Bruijn\n",
    "- A directed graph of sequences of symbols\n",
    "- Nodes in the graph are k-mers (oligonucleotides of length <i>k</i>)\n",
    "- Edges represent consecutive k-mers (which overlap by <i>k</i>-1 symbols)\n",
    "<img src=\"https://i.imgur.com/SdXAgfP.png\"\n",
    "     alt=\"de Bruijn graph\"\n",
    "     style=\"float: left; margin-right: 2px;\" />"
   ]
  },
  {
   "cell_type": "markdown",
   "metadata": {},
   "source": [
    "### Assembly software\n",
    "#### Tools for short read assembly\n",
    "- SPAdes\n",
    "- MEGAHIT\n",
    "- Velvet\n",
    "- SKESA\n",
    "- IDBA\n",
    "- ABySS\n",
    "\n",
    "#### Long read assembly\n",
    "- Canu\n",
    "- Wtdbg2\n",
    "- Flye\n",
    "- Ra\n",
    "- Miniasm\n",
    "- Shasta\n",
    "- [Comparison of tools](https://github.com/rrwick/Long-read-assembler-comparison)\n",
    "\n",
    "#### State of the art pipeline for hybrid assembly\n",
    "[Unicycler](https://github.com/rrwick/Unicycler)\n",
    "\n",
    "#### Bandage as a tool for viewing assembly graphs\n",
    "[Bandage](http://rrwick.github.io/Bandage/)\n"
   ]
  },
  {
   "cell_type": "code",
   "execution_count": 4,
   "metadata": {},
   "outputs": [
    {
     "name": "stderr",
     "output_type": "stream",
     "text": [
      "QStandardPaths: XDG_RUNTIME_DIR not set, defaulting to '/tmp/runtime-michal'\n"
     ]
    }
   ],
   "source": [
    "%%bash\n",
    "Bandage "
   ]
  },
  {
   "cell_type": "markdown",
   "metadata": {},
   "source": [
    "<img src=\"https://i.imgur.com/irgruKB.png\"\n",
    "     alt=\"Example of Bandage\"\n",
    "     style=\"float: left; margin-right: 2px;\" />"
   ]
  }
 ],
 "metadata": {
  "kernelspec": {
   "display_name": "Python 3",
   "language": "python",
   "name": "python3"
  },
  "language_info": {
   "codemirror_mode": {
    "name": "ipython",
    "version": 3
   },
   "file_extension": ".py",
   "mimetype": "text/x-python",
   "name": "python",
   "nbconvert_exporter": "python",
   "pygments_lexer": "ipython3",
   "version": "3.7.6"
  }
 },
 "nbformat": 4,
 "nbformat_minor": 4
}
